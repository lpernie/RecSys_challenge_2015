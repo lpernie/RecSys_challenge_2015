{
 "cells": [
  {
   "cell_type": "code",
   "execution_count": null,
   "metadata": {},
   "outputs": [],
   "source": [
    "import datetime\n",
    "import numpy as np\n",
    "import pandas as pd\n",
    "from sklearn.model_selection import train_test_split\n",
    "from matplotlib import pyplot as plt\n",
    "import my_funcs as mf\n",
    "\n",
    "# With these 2 lines you can modify my_funcs propahgate the changes here\n",
    "%load_ext autoreload\n",
    "%autoreload 2\n",
    "# Custom plot layout\n",
    "plt.rcParams[\"figure.facecolor\"] = \"white\"\n",
    "# To use black (auto formatter on the notebook): /opt/anaconda3/envs/plus2/bin/pip install nb_black\n",
    "%load_ext lab_black"
   ]
  },
  {
   "cell_type": "code",
   "execution_count": null,
   "metadata": {},
   "outputs": [],
   "source": [
    "# Paths\n",
    "cliks_path_afterExploration = \"data_yoochoose/yoochoose-clicks_aftExp.dat\"\n",
    "buys_path_afterExploration = \"data_yoochoose/yoochoose-buys_aftExp.dat\"\n",
    "cliks_path_sorted = \"data_yoochoose/yoochoose-clicks_sorted.dat\"\n",
    "buys_path_sorted = \"data_yoochoose/yoochoose-buys_sorted.dat\"\n",
    "cliks_path_sorted_prep1 = \"data_yoochoose/yoochoose-clicks_sorted_prep1.dat\"\n",
    "buys_path_sorted_prep1 = \"data_yoochoose/yoochoose-buys_sorted_prep1.dat\"\n",
    "final_dataset = \"data_yoochoose/final_df.dat\"\n",
    "# Parameters\n",
    "limit = None\n",
    "load_from_beginning = True"
   ]
  },
  {
   "cell_type": "markdown",
   "metadata": {},
   "source": [
    "### Workflow: Load the Data"
   ]
  },
  {
   "cell_type": "code",
   "execution_count": null,
   "metadata": {},
   "outputs": [],
   "source": [
    "%%time\n",
    "# Load the data\n",
    "if load_from_beginning:\n",
    "    df_clicks = mf.load_file(\n",
    "        cliks_path_afterExploration,\n",
    "        limit=limit,\n",
    "        to_be_sorted=False,\n",
    "        index_col=0,\n",
    "        header=0,\n",
    "        dtype={\"SessionID\": np.int32, \"ItemID\": np.int32, 'Category': np.int16},\n",
    "        parse_dates=[1]\n",
    "    )\n",
    "\n",
    "    df_buys = mf.load_file(\n",
    "        buys_path_afterExploration,\n",
    "        limit=limit,\n",
    "        to_be_sorted=False,\n",
    "        index_col=0,\n",
    "        header=0,\n",
    "        dtype={\"SessionID\": np.int32, \"ItemID\": np.int32, \"Price\": np.int32, \"Quantity\": np.int16},\n",
    "        parse_dates=[1]\n",
    "    )"
   ]
  },
  {
   "cell_type": "markdown",
   "metadata": {},
   "source": [
    "### Workflow: Preprocess"
   ]
  },
  {
   "cell_type": "code",
   "execution_count": null,
   "metadata": {},
   "outputs": [],
   "source": [
    "# Preprocess buys\n",
    "if load_from_beginning:\n",
    "    df_buys_prep = mf.process_buys(df_buys)\n",
    "    df_buys_prep.to_csv(buys_path_sorted_prep1)\n",
    "else:\n",
    "    df_buys_prep = mf.load_file(\n",
    "        buys_path_sorted_prep1, limit=limit, to_be_sorted=True, header=0, index_col=0\n",
    "    )"
   ]
  },
  {
   "cell_type": "code",
   "execution_count": null,
   "metadata": {},
   "outputs": [],
   "source": [
    "%%time\n",
    "# Preprocess clicks\n",
    "if load_from_beginning:\n",
    "    df_clicks_prep = mf.process_clicks(df_clicks)\n",
    "    sessions = mf.process_sessions(df_clicks_prep, buys_path_afterExploration, limit=limit)\n",
    "    sessions.to_csv(cliks_path_sorted_prep1)\n",
    "else:\n",
    "    sessions = mf.load_file(\n",
    "        cliks_path_sorted_prep1,\n",
    "        limit=limit,\n",
    "        to_be_sorted=True,\n",
    "        header=0,\n",
    "        index_col=0,\n",
    "        parse_dates=[6,7]\n",
    "    )"
   ]
  },
  {
   "cell_type": "markdown",
   "metadata": {},
   "source": [
    "### Check your dataset after processing"
   ]
  },
  {
   "cell_type": "code",
   "execution_count": null,
   "metadata": {
    "scrolled": true
   },
   "outputs": [],
   "source": [
    "mf.sanity_checks(df_buys_prep)"
   ]
  },
  {
   "cell_type": "code",
   "execution_count": null,
   "metadata": {
    "scrolled": true
   },
   "outputs": [],
   "source": [
    "mf.sanity_checks(df_clicks_prep)"
   ]
  },
  {
   "cell_type": "code",
   "execution_count": null,
   "metadata": {
    "scrolled": true
   },
   "outputs": [],
   "source": [
    "mf.sanity_checks(sessions)"
   ]
  },
  {
   "cell_type": "markdown",
   "metadata": {},
   "source": [
    "### Fix the Dataset"
   ]
  },
  {
   "cell_type": "code",
   "execution_count": null,
   "metadata": {},
   "outputs": [],
   "source": [
    "# Remove the NaN\n",
    "sessions.max_dwell = sessions.max_dwell.replace(np.inf, np.nan)  # Replace inf with NaN\n",
    "sessions.max_dwell = sessions.max_dwell.fillna(-1)\n",
    "sessions.mean_dwell = sessions.mean_dwell.replace(np.inf, np.nan)\n",
    "sessions.mean_dwell = sessions.mean_dwell.fillna(-1)"
   ]
  },
  {
   "cell_type": "markdown",
   "metadata": {},
   "source": [
    "### Create Train and Test Datasets"
   ]
  },
  {
   "cell_type": "code",
   "execution_count": null,
   "metadata": {},
   "outputs": [],
   "source": [
    "# Create Test/Train datasets\n",
    "Final_df = pd.merge(\n",
    "    sessions, df_buys_prep, how=\"left\", left_index=True, right_index=True\n",
    ")\n",
    "Final_df = Final_df.sort_values(by=[\"start_ts\"])\n",
    "Final_df[\"items_bought\"] = Final_df[\"items_bought\"].fillna(0)\n",
    "Final_df[\"is_buy\"] = Final_df[\"is_buy\"].fillna(0)\n",
    "Final_df[\"cat_most_viewed\"] = Final_df[\"cat_most_viewed\"].astype(\"float64\")\n",
    "del Final_df[\"start_ts\"]\n",
    "del Final_df[\"end_ts\"]\n",
    "Final_df.to_csv(final_dataset)"
   ]
  },
  {
   "cell_type": "code",
   "execution_count": null,
   "metadata": {},
   "outputs": [],
   "source": [
    "Final_df.head()"
   ]
  },
  {
   "cell_type": "code",
   "execution_count": null,
   "metadata": {},
   "outputs": [],
   "source": []
  }
 ],
 "metadata": {
  "kernelspec": {
   "display_name": "Python 3",
   "language": "python",
   "name": "python3"
  },
  "language_info": {
   "codemirror_mode": {
    "name": "ipython",
    "version": 3
   },
   "file_extension": ".py",
   "mimetype": "text/x-python",
   "name": "python",
   "nbconvert_exporter": "python",
   "pygments_lexer": "ipython3",
   "version": "3.8.5"
  }
 },
 "nbformat": 4,
 "nbformat_minor": 4
}
