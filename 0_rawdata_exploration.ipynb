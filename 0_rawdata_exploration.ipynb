{
 "cells": [
  {
   "cell_type": "code",
   "execution_count": null,
   "metadata": {},
   "outputs": [],
   "source": [
    "import numpy as np\n",
    "import pandas as pd\n",
    "from matplotlib import pyplot as plt\n",
    "import my_funcs as mf\n",
    "\n",
    "# With these 2 lines you can modify my_funcs propahgate the changes here\n",
    "%load_ext autoreload\n",
    "%autoreload 2\n",
    "# Custom plot layout\n",
    "plt.rcParams[\"figure.facecolor\"] = \"white\"\n",
    "# To use black (auto formatter on the notebook): /opt/anaconda3/envs/plus2/bin/pip install nb_black\n",
    "%load_ext lab_black"
   ]
  },
  {
   "cell_type": "markdown",
   "metadata": {},
   "source": [
    "### Load the dataset"
   ]
  },
  {
   "cell_type": "code",
   "execution_count": null,
   "metadata": {},
   "outputs": [],
   "source": [
    "# Paths\n",
    "cliks_path = \"data_yoochoose/yoochoose-clicks.dat\"\n",
    "buys_path = \"data_yoochoose/yoochoose-buys.dat\"\n",
    "cliks_path_afterExploration = \"data_yoochoose/yoochoose-clicks_aftExp.dat\"\n",
    "buys_path_afterExploration = \"data_yoochoose/yoochoose-buys_aftExp.dat\"\n",
    "limit = None\n",
    "fig_folder = \"figs/\""
   ]
  },
  {
   "cell_type": "code",
   "execution_count": null,
   "metadata": {},
   "outputs": [],
   "source": [
    "%%time\n",
    "df_clicks = mf.load_file(\n",
    "    cliks_path,\n",
    "    limit=limit,\n",
    "    to_be_sorted=False,\n",
    "    index_col=None,\n",
    "    header=None,\n",
    "    names=[\"SessionID\", \"Timestamp\", \"ItemID\", \"Category\"],\n",
    "    dtype={\"SessionID\": np.int32, \"ItemID\": np.int32},\n",
    "    parse_dates={\"DateTime\": [1]},\n",
    "    date_parser=lambda col: pd.to_datetime(\n",
    "        col, utc=True, format=\"%Y-%m-%dT%H:%M:%S.%fZ\"\n",
    "    ),\n",
    "    converters={\"Category\": lambda c: -1 if c == \"S\" else c}\n",
    ")\n",
    "\n",
    "df_buys = mf.load_file(\n",
    "    buys_path,\n",
    "    limit=limit,\n",
    "    to_be_sorted=False,\n",
    "    index_col=None,\n",
    "    header=None,\n",
    "    names=[\"SessionID\", \"Timestamp\", \"ItemID\", \"Price\", \"Quantity\"],\n",
    "    dtype={\n",
    "        \"SessionID\": np.int32,\n",
    "        \"ItemID\": np.int32,\n",
    "        \"Price\": np.int32,\n",
    "        \"Quantity\": np.int16,\n",
    "    },\n",
    "    parse_dates={\"DateTime\": [1]},\n",
    "    date_parser=lambda col: pd.to_datetime(\n",
    "        col, utc=True, format=\"%Y-%m-%dT%H:%M:%S.%fZ\"\n",
    "    )\n",
    ")"
   ]
  },
  {
   "cell_type": "markdown",
   "metadata": {},
   "source": [
    "### Sanity checks"
   ]
  },
  {
   "cell_type": "code",
   "execution_count": null,
   "metadata": {
    "scrolled": true
   },
   "outputs": [],
   "source": [
    "mf.sanity_checks(df_clicks, n=5)"
   ]
  },
  {
   "cell_type": "code",
   "execution_count": null,
   "metadata": {
    "scrolled": true
   },
   "outputs": [],
   "source": [
    "mf.sanity_checks(df_buys, n=5)"
   ]
  },
  {
   "cell_type": "markdown",
   "metadata": {},
   "source": [
    "### Fix: remapping to lower values"
   ]
  },
  {
   "cell_type": "code",
   "execution_count": null,
   "metadata": {},
   "outputs": [],
   "source": [
    "# Remapping ItemID: Clicks\n",
    "dict_replace = {}\n",
    "items = [x for x in df_clicks[\"ItemID\"].unique()]\n",
    "for index, n in enumerate(items):\n",
    "    dict_replace[n] = index\n",
    "df_clicks[\"ItemID\"] = df_clicks[\"ItemID\"].map(\n",
    "    dict_replace.get\n",
    ")  # Faster than using 'replace' method. # Because all values are in the dic\n",
    "\n",
    "# Remapping ItemID: Buys\n",
    "dict_replace = {}\n",
    "items = [x for x in df_buys[\"ItemID\"].unique()]\n",
    "for index, n in enumerate(items):\n",
    "    dict_replace[n] = index\n",
    "df_buys[\"ItemID\"] = df_buys[\"ItemID\"].map(\n",
    "    dict_replace.get\n",
    ")  # Because all values are in the dic"
   ]
  },
  {
   "cell_type": "code",
   "execution_count": null,
   "metadata": {},
   "outputs": [],
   "source": [
    "# Remapping Category\n",
    "# Category has few entry that are 10-digit number (special brend-offer)\n",
    "# Need to re-map to np.16 so i map those ID to lower number that are avaible\n",
    "dict_replace = {}\n",
    "df_clicks[\"Category\"] = df_clicks[\"Category\"].astype(np.int32)\n",
    "cat_larger_than12 = [x for x in df_clicks[\"Category\"].unique() if x > 12]\n",
    "for index, n in enumerate(cat_larger_than12):\n",
    "    dict_replace[n] = 13 + index\n",
    "df_clicks[\"Category\"] = df_clicks[\"Category\"].map(\n",
    "    lambda x: dict_replace.get(x, x)\n",
    ")  # Because not all values are in the dict\n",
    "df_clicks[\"Category\"] = df_clicks[\"Category\"].astype(np.int16)"
   ]
  },
  {
   "cell_type": "markdown",
   "metadata": {},
   "source": [
    "### CLICKS plots"
   ]
  },
  {
   "cell_type": "code",
   "execution_count": null,
   "metadata": {
    "scrolled": true
   },
   "outputs": [],
   "source": [
    "mf.create_plots(\n",
    "    df_clicks,\n",
    "    out_folder=fig_folder,\n",
    "    col_to_exclude=[],\n",
    "    params={\n",
    "        \"DateTime\": {\n",
    "            \"plot\": \"date_bar_YM\",\n",
    "            \"y\": 1,\n",
    "            \"xlabel\": \"Date\",\n",
    "            \"ylabel\": \"Counts\",\n",
    "            \"logy\": True,\n",
    "            \"save\": True,\n",
    "            \"name\": \"0clicks_b_DateTime.png\",\n",
    "        },\n",
    "        \"SessionID\": {\n",
    "            \"plot\": \"hist\",\n",
    "            \"xlabel\": \"SessionID\",\n",
    "            \"ylabel\": \"counts\",\n",
    "            \"save\": True,\n",
    "            \"name\": \"0clicks_h_SessionID.png\",\n",
    "        },\n",
    "        \"ItemID\": {\n",
    "            \"plot\": \"hist\",\n",
    "            \"xlabel\": \"ItemID\",\n",
    "            \"ylabel\": \"counts\",\n",
    "            \"logy\": True,\n",
    "            \"show\": True,\n",
    "            \"bins\": 20,\n",
    "            \"save\": True,\n",
    "            \"name\": \"0clicks_h_ItemID.png\",\n",
    "        },\n",
    "        \"Category\": {\n",
    "            \"plot\": \"hist\",\n",
    "            \"xlabel\": \"Category\",\n",
    "            \"ylabel\": \"counts\",\n",
    "            \"logy\": True,\n",
    "            \"show\": True,\n",
    "            \"bins\": 100,\n",
    "            \"save\": True,\n",
    "            \"name\": \"0clicks_h_Category.png\",\n",
    "        },\n",
    "    },\n",
    ")"
   ]
  },
  {
   "cell_type": "markdown",
   "metadata": {},
   "source": [
    "### BUYS plots"
   ]
  },
  {
   "cell_type": "code",
   "execution_count": null,
   "metadata": {
    "scrolled": true
   },
   "outputs": [],
   "source": [
    "mf.create_plots(\n",
    "    df_buys,\n",
    "    out_folder=fig_folder,\n",
    "    col_to_exclude=[],\n",
    "    params={\n",
    "        \"DateTime\": {\n",
    "            \"plot\": \"date_bar_YM\",\n",
    "            \"y\": 1,\n",
    "            \"xlabel\": \"Date\",\n",
    "            \"ylabel\": \"Counts\",\n",
    "            \"logy\": True,\n",
    "            \"save\": True,\n",
    "            \"name\": \"0buy_b_DateTime.png\",\n",
    "        },\n",
    "        \"SessionID\": {\n",
    "            \"plot\": \"hist\",\n",
    "            \"xlabel\": \"SessionID\",\n",
    "            \"ylabel\": \"counts\",\n",
    "            \"save\": True,\n",
    "            \"name\": \"0buy_h_SessionID.png\",\n",
    "        },\n",
    "        \"ItemID\": {\n",
    "            \"plot\": \"hist\",\n",
    "            \"xlabel\": \"ItemID\",\n",
    "            \"ylabel\": \"counts\",\n",
    "            \"logy\": True,\n",
    "            \"show\": True,\n",
    "            \"bins\": 20,\n",
    "            \"save\": True,\n",
    "            \"name\": \"0buy_h_ItemID.png\",\n",
    "        },\n",
    "        \"Price\": {\n",
    "            \"plot\": \"hist\",\n",
    "            \"xlabel\": \"Price\",\n",
    "            \"ylabel\": \"counts\",\n",
    "            \"logy\": True,\n",
    "            \"show\": True,\n",
    "            \"bins\": 50,\n",
    "            \"save\": True,\n",
    "            \"name\": \"0buy_h_Price.png\",\n",
    "        },\n",
    "        \"Quantity\": {\n",
    "            \"plot\": \"hist\",\n",
    "            \"xlabel\": \"Quantity\",\n",
    "            \"ylabel\": \"counts\",\n",
    "            \"logy\": True,\n",
    "            \"show\": True,\n",
    "            \"bins\": 25,\n",
    "            \"save\": True,\n",
    "            \"name\": \"0buy_h_Quantity.png\",\n",
    "        },\n",
    "    },\n",
    ")"
   ]
  },
  {
   "cell_type": "code",
   "execution_count": null,
   "metadata": {},
   "outputs": [],
   "source": [
    "# Per Day stats\n",
    "df_tmp = (\n",
    "    df_buys.groupby(\n",
    "        [\n",
    "            df_buys[\"DateTime\"].dt.year,\n",
    "            df_buys[\"DateTime\"].dt.month,\n",
    "            df_buys[\"DateTime\"].dt.day,\n",
    "        ]\n",
    "    )\n",
    "    .agg({\"SessionID\": \"count\", \"Price\": \"sum\", \"Quantity\": \"sum\"})\n",
    "    .rename(\n",
    "        columns={\n",
    "            \"SessionID\": \"n_sessions\",\n",
    "            \"Price\": \"Tot_price\",\n",
    "            \"Quantity\": \"Tot_quantity\",\n",
    "        }\n",
    "    )\n",
    ")"
   ]
  },
  {
   "cell_type": "code",
   "execution_count": null,
   "metadata": {},
   "outputs": [],
   "source": [
    "ax = df_tmp.plot(kind=\"bar\", y=\"n_sessions\", figsize=(12, 4))\n",
    "ax.set(xlabel=\"Date\", ylabel=\"Nsessions\")\n",
    "plt.rcParams[\"xtick.labelsize\"] = 6\n",
    "plt.savefig(fig_folder + \"/0buy_b_Nsessions.png\", bbox_inches=\"tight\", dpi=300)\n",
    "plt.clf()\n",
    "ax = df_tmp.plot(kind=\"bar\", y=\"Tot_price\", figsize=(12, 4))\n",
    "ax.set(xlabel=\"Date\", ylabel=\"TotPrice\")\n",
    "plt.rcParams[\"xtick.labelsize\"] = 6\n",
    "plt.savefig(fig_folder + \"/0buy_b_Totprice.png\", bbox_inches=\"tight\", dpi=300)\n",
    "plt.clf()\n",
    "ax = df_tmp.plot(kind=\"bar\", y=\"Tot_quantity\", figsize=(12, 4))\n",
    "ax.set(xlabel=\"Date\", ylabel=\"TotQuantity\")\n",
    "plt.rcParams[\"xtick.labelsize\"] = 6\n",
    "plt.savefig(fig_folder + \"/0buy_b_Totquantity.png\", bbox_inches=\"tight\", dpi=300)\n",
    "plt.clf()"
   ]
  },
  {
   "cell_type": "code",
   "execution_count": null,
   "metadata": {},
   "outputs": [],
   "source": [
    "# Per Month stats\n",
    "df_tmp2 = (\n",
    "    df_buys.groupby([df_buys[\"DateTime\"].dt.year, df_buys[\"DateTime\"].dt.month])\n",
    "    .agg({\"SessionID\": \"count\", \"Price\": \"sum\", \"Quantity\": \"sum\"})\n",
    "    .rename(\n",
    "        columns={\n",
    "            \"SessionID\": \"n_sessions\",\n",
    "            \"Price\": \"Tot_price\",\n",
    "            \"Quantity\": \"Tot_quantity\",\n",
    "        }\n",
    "    )\n",
    ")"
   ]
  },
  {
   "cell_type": "code",
   "execution_count": null,
   "metadata": {},
   "outputs": [],
   "source": [
    "ax = df_tmp2.plot(kind=\"bar\", y=\"n_sessions\", figsize=(12, 4))\n",
    "ax.set(xlabel=\"Month\", ylabel=\"Nsessions\")\n",
    "plt.rcParams[\"xtick.labelsize\"] = 6\n",
    "plt.savefig(fig_folder + \"/0buy_b_Nsessions_month.png\", bbox_inches=\"tight\", dpi=300)\n",
    "plt.clf()\n",
    "ax = df_tmp2.plot(kind=\"bar\", y=\"Tot_price\", figsize=(12, 4))\n",
    "ax.set(xlabel=\"Month\", ylabel=\"TotPrice\")\n",
    "plt.rcParams[\"xtick.labelsize\"] = 6\n",
    "plt.savefig(fig_folder + \"/0buy_b_Totprice_month.png\", bbox_inches=\"tight\", dpi=300)\n",
    "plt.clf()\n",
    "ax = df_tmp2.plot(kind=\"bar\", y=\"Tot_quantity\", figsize=(12, 4))\n",
    "ax.set(xlabel=\"Month\", ylabel=\"TotQuantity\")\n",
    "plt.rcParams[\"xtick.labelsize\"] = 6\n",
    "plt.savefig(fig_folder + \"/0buy_b_Totquantity_month.png\", bbox_inches=\"tight\", dpi=300)\n",
    "plt.clf()"
   ]
  },
  {
   "cell_type": "code",
   "execution_count": null,
   "metadata": {},
   "outputs": [],
   "source": [
    "# Per Day of week\n",
    "df_tmp3 = (\n",
    "    df_buys.groupby([df_buys[\"DateTime\"].dt.dayofweek]) #  Monday=0, Sunday=6.\n",
    "    .agg({\"SessionID\": \"count\", \"Price\": \"sum\", \"Quantity\": \"sum\"})\n",
    "    .rename(\n",
    "        columns={\n",
    "            \"SessionID\": \"n_sessions\",\n",
    "            \"Price\": \"Tot_price\",\n",
    "            \"Quantity\": \"Tot_quantity\",\n",
    "        }\n",
    "    )\n",
    ")"
   ]
  },
  {
   "cell_type": "code",
   "execution_count": null,
   "metadata": {},
   "outputs": [],
   "source": [
    "l_name_day = [\n",
    "    \"Monday\",\n",
    "    \"Tuesday\",\n",
    "    \"Wednesday\",\n",
    "    \"Thursday\",\n",
    "    \"Friday\",\n",
    "    \"Saturday\",\n",
    "    \"Sunday\",\n",
    "]\n",
    "\n",
    "ax = df_tmp3.plot(kind=\"bar\", y=\"n_sessions\", figsize=(12, 4))\n",
    "ax.set(xticklabels=l_name_day, xlabel=\"Day\", ylabel=\"Nsessions\")\n",
    "plt.rcParams[\"xtick.labelsize\"] = 6\n",
    "plt.savefig(\n",
    "    fig_folder + \"/0buy_b_Nsessions_dayOFweek.png\", bbox_inches=\"tight\", dpi=300\n",
    ")\n",
    "plt.clf()\n",
    "ax = df_tmp3.plot(kind=\"bar\", y=\"Tot_price\", figsize=(12, 4))\n",
    "ax.set(xticklabels=l_name_day, xlabel=\"Day\", ylabel=\"TotPrice\")\n",
    "plt.rcParams[\"xtick.labelsize\"] = 6\n",
    "plt.savefig(fig_folder + \"/0buy_b_Totprice_dayOFweek.png\", bbox_inches=\"tight\", dpi=300)\n",
    "plt.clf()\n",
    "ax = df_tmp3.plot(kind=\"bar\", y=\"Tot_quantity\", figsize=(12, 4))\n",
    "ax.set(xticklabels=l_name_day, xlabel=\"Day\", ylabel=\"TotQuantity\")\n",
    "plt.rcParams[\"xtick.labelsize\"] = 6\n",
    "plt.savefig(\n",
    "    fig_folder + \"/0buy_b_Totquantity_dayOFweek.png\", bbox_inches=\"tight\", dpi=300\n",
    ")\n",
    "plt.clf()"
   ]
  },
  {
   "cell_type": "code",
   "execution_count": null,
   "metadata": {},
   "outputs": [],
   "source": [
    "# Per Hour\n",
    "df_tmp4 = (\n",
    "    df_buys.groupby([df_buys[\"DateTime\"].dt.hour])\n",
    "    .agg({\"SessionID\": \"count\", \"Price\": \"sum\", \"Quantity\": \"sum\"})\n",
    "    .rename(\n",
    "        columns={\n",
    "            \"SessionID\": \"n_sessions\",\n",
    "            \"Price\": \"Tot_price\",\n",
    "            \"Quantity\": \"Tot_quantity\",\n",
    "        }\n",
    "    )\n",
    ")"
   ]
  },
  {
   "cell_type": "code",
   "execution_count": null,
   "metadata": {},
   "outputs": [],
   "source": [
    "ax = df_tmp4.plot(kind=\"bar\", y=\"n_sessions\", figsize=(12, 4))\n",
    "ax.set(xlabel=\"Hour\", ylabel=\"Nsessions\")\n",
    "plt.rcParams[\"xtick.labelsize\"] = 6\n",
    "plt.savefig(fig_folder + \"/0buy_b_Nsessions_hour.png\", bbox_inches=\"tight\", dpi=300)\n",
    "plt.clf()\n",
    "ax = df_tmp4.plot(kind=\"bar\", y=\"Tot_price\", figsize=(12, 4))\n",
    "ax.set(xlabel=\"Hour\", ylabel=\"TotPrice\")\n",
    "plt.rcParams[\"xtick.labelsize\"] = 6\n",
    "plt.savefig(fig_folder + \"/0buy_b_Totprice_hour.png\", bbox_inches=\"tight\", dpi=300)\n",
    "plt.clf()\n",
    "ax = df_tmp4.plot(kind=\"bar\", y=\"Tot_quantity\", figsize=(12, 4))\n",
    "ax.set(xlabel=\"Hour\", ylabel=\"TotQuantity\")\n",
    "plt.rcParams[\"xtick.labelsize\"] = 6\n",
    "plt.savefig(fig_folder + \"/0buy_b_Totquantity_hour.png\", bbox_inches=\"tight\", dpi=300)\n",
    "plt.clf()"
   ]
  },
  {
   "cell_type": "markdown",
   "metadata": {},
   "source": [
    "### Save final files"
   ]
  },
  {
   "cell_type": "code",
   "execution_count": null,
   "metadata": {},
   "outputs": [],
   "source": [
    "df_clicks.to_csv(cliks_path_afterExploration)\n",
    "df_buys.to_csv(buys_path_afterExploration)"
   ]
  },
  {
   "cell_type": "markdown",
   "metadata": {},
   "source": [
    "### Considerations\n",
    "* Some BUYS entries have quantity equal to zero. What do they represents?\n",
    "  * When quantity is 0, also Prize is zero.\n",
    "* Large hole in the BUY dataset. For three months nothing has been sold."
   ]
  },
  {
   "cell_type": "code",
   "execution_count": null,
   "metadata": {},
   "outputs": [],
   "source": [
    "df_buys[df_buys[\"Price\"] == 0][\"Quantity\"].unique()"
   ]
  },
  {
   "cell_type": "code",
   "execution_count": null,
   "metadata": {},
   "outputs": [],
   "source": []
  }
 ],
 "metadata": {
  "kernelspec": {
   "display_name": "Python 3",
   "language": "python",
   "name": "python3"
  },
  "language_info": {
   "codemirror_mode": {
    "name": "ipython",
    "version": 3
   },
   "file_extension": ".py",
   "mimetype": "text/x-python",
   "name": "python",
   "nbconvert_exporter": "python",
   "pygments_lexer": "ipython3",
   "version": "3.8.5"
  }
 },
 "nbformat": 4,
 "nbformat_minor": 5
}
